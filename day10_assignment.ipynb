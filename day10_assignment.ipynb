{
 "cells": [
  {
   "cell_type": "markdown",
   "metadata": {},
   "source": [
    "We learnt about the New York house prices dataset in the in-class session. We learnt \n",
    "* What is linear regression\n",
    "* How gradient descent algorithm works to minimize the cost function \n",
    "* What are the assumptions of linear regression\n",
    "\n",
    "We also implemented linear regression using `sklearn` library in which we\n",
    "\n",
    "* Fit a linear regression model\n",
    "* Predicted house prices using the fitted model\n",
    "* Calculated MSE for predicted and actual house prices\n",
    "\n",
    "Now, let's take this forward and increase our understanding of linear regression!\n",
    "\n",
    "This assignment is a series of simple tasks, in which we will be fitting a linear regression model on the house pricing data and validating some of the assumptions of linear regression."
   ]
  },
  {
   "cell_type": "markdown",
   "metadata": {},
   "source": [
    "### Why solve this assignment?\n",
    "\n",
    "By the end of this assignment,\n",
    "\n",
    "* You will be able to confidently train a linear regression model and predict values of the target variables\n",
    "* You will have a better understanding about the assumptions of linear regression and how to validate them"
   ]
  },
  {
   "cell_type": "markdown",
   "metadata": {},
   "source": [
    "### On assumptions of linear regression\n",
    "\n",
    "Assumptions of linear regression model play an extremely important role in the model performance and stability. Hence, it is very important to validate these assumptions. Validating these assumptions can give us deeper insights into the **kind of data** we are dealing with and **steps that could be taken to improve the results** of the linear model.\n",
    "\n",
    "So, let's get started.\n",
    "\n",
    "Here are some of the imports that we will be using throughout the assignment."
   ]
  },
  {
   "cell_type": "code",
   "execution_count": 1,
   "metadata": {
    "collapsed": true
   },
   "outputs": [],
   "source": [
    "import pandas as pd\n",
    "import numpy as np\n",
    "import matplotlib.pyplot as plt\n",
    "from pprint import pprint\n",
    "%matplotlib inline\n",
    "from sklearn.linear_model import LinearRegression\n",
    "from sklearn.metrics import mean_squared_error, mean_absolute_error, r2_score"
   ]
  },
  {
   "cell_type": "markdown",
   "metadata": {},
   "source": [
    "## Task 1: Load Data\n",
    "\n",
    "We will start with loading the data into a variable, which we will use for further analysis\n",
    "\n",
    "You need to write a function `load_data()` with following specifications"
   ]
  },
  {
   "cell_type": "code",
   "execution_count": 2,
   "metadata": {
    "collapsed": true
   },
   "outputs": [],
   "source": [
    "def load_data(path):\n",
    "    df = pd.read_csv(path)\n",
    "    pprint(df.head())\n",
    "    return df"
   ]
  },
  {
   "cell_type": "code",
   "execution_count": 3,
   "metadata": {},
   "outputs": [
    {
     "name": "stdout",
     "output_type": "stream",
     "text": [
      "   LotFrontage  LotArea  OverallQual  OverallCond  YearBuilt  YearRemodAdd  \\\n",
      "0         65.0     8450            7            5       2003          2003   \n",
      "1         80.0     9600            6            8       1976          1976   \n",
      "2         68.0    11250            7            5       2001          2002   \n",
      "3         60.0     9550            7            5       1915          1970   \n",
      "4         84.0    14260            8            5       2000          2000   \n",
      "\n",
      "   MasVnrArea  BsmtFinSF1  BsmtFinSF2  BsmtUnfSF    ...      GarageArea  \\\n",
      "0       196.0         706           0        150    ...             548   \n",
      "1         0.0         978           0        284    ...             460   \n",
      "2       162.0         486           0        434    ...             608   \n",
      "3         0.0         216           0        540    ...             642   \n",
      "4       350.0         655           0        490    ...             836   \n",
      "\n",
      "   WoodDeckSF  OpenPorchSF  EnclosedPorch  3SsnPorch  ScreenPorch  PoolArea  \\\n",
      "0           0           61              0          0            0         0   \n",
      "1         298            0              0          0            0         0   \n",
      "2           0           42              0          0            0         0   \n",
      "3           0           35            272          0            0         0   \n",
      "4         192           84              0          0            0         0   \n",
      "\n",
      "   MiscVal  YrSold  SalePrice  \n",
      "0        0    2008     208500  \n",
      "1        0    2007     181500  \n",
      "2        0    2008     223500  \n",
      "3        0    2006     140000  \n",
      "4        0    2008     250000  \n",
      "\n",
      "[5 rows x 35 columns]\n"
     ]
    }
   ],
   "source": [
    "house_prices = load_data(\"./data/house_prices_multivariate.csv\")"
   ]
  },
  {
   "cell_type": "markdown",
   "metadata": {},
   "source": [
    "## Task 2: Split Data into Feature and Target Variables\n",
    "\n",
    "Now that you have imported the data, let's split data into target or dependent variable and feature or independent variables. We can use these variables later on to fit a linear regression model. \n",
    "\n",
    "What would be the dependent variable here?\n",
    "\n",
    "Tip: In practice, we denote dependent variables with capital X and target variable with small y.\n",
    "\n",
    "Let's write a function `data_splitter()`"
   ]
  },
  {
   "cell_type": "code",
   "execution_count": 6,
   "metadata": {
    "collapsed": true
   },
   "outputs": [],
   "source": [
    "def data_splitter(df):\n",
    "    X = df.iloc[:,:-1]\n",
    "    y = df.iloc[:,-1]\n",
    "    print X.head(1)\n",
    "    print y.head(1)\n",
    "    return X, y"
   ]
  },
  {
   "cell_type": "code",
   "execution_count": 7,
   "metadata": {},
   "outputs": [
    {
     "name": "stdout",
     "output_type": "stream",
     "text": [
      "   LotFrontage  LotArea  OverallQual  OverallCond  YearBuilt  YearRemodAdd  \\\n",
      "0         65.0     8450            7            5       2003          2003   \n",
      "\n",
      "   MasVnrArea  BsmtFinSF1  BsmtFinSF2  BsmtUnfSF   ...    GarageCars  \\\n",
      "0       196.0         706           0        150   ...             2   \n",
      "\n",
      "   GarageArea  WoodDeckSF  OpenPorchSF  EnclosedPorch  3SsnPorch  ScreenPorch  \\\n",
      "0         548           0           61              0          0            0   \n",
      "\n",
      "   PoolArea  MiscVal  YrSold  \n",
      "0         0        0    2008  \n",
      "\n",
      "[1 rows x 34 columns]\n",
      "0    208500\n",
      "Name: SalePrice, dtype: int64\n"
     ]
    }
   ],
   "source": [
    "X_house_prices, y_house_prices = data_splitter(house_prices)"
   ]
  },
  {
   "cell_type": "markdown",
   "metadata": {},
   "source": [
    "## Task 3: Fitting a linear regression model\n",
    "\n",
    "Let's write a function `linear_regression()`"
   ]
  },
  {
   "cell_type": "code",
   "execution_count": 8,
   "metadata": {
    "collapsed": true
   },
   "outputs": [],
   "source": [
    "def linear_regression(X, y):\n",
    "    linear_regressor = LinearRegression(normalize=False)\n",
    "    linear_regressor.fit(X, y)\n",
    "    return linear_regressor"
   ]
  },
  {
   "cell_type": "code",
   "execution_count": 9,
   "metadata": {},
   "outputs": [
    {
     "data": {
      "text/plain": [
       "LinearRegression(copy_X=True, fit_intercept=True, n_jobs=1, normalize=False)"
      ]
     },
     "execution_count": 9,
     "metadata": {},
     "output_type": "execute_result"
    }
   ],
   "source": [
    "linear_regression(X_house_prices, y_house_prices)"
   ]
  },
  {
   "cell_type": "markdown",
   "metadata": {},
   "source": [
    "## Task 4: Predicting using fitted linear regression model\n",
    "\n",
    "Let's write a function `linear_predictor()`"
   ]
  },
  {
   "cell_type": "code",
   "execution_count": 11,
   "metadata": {
    "collapsed": true
   },
   "outputs": [],
   "source": [
    "def linear_predictor(X, y):\n",
    "    linear_regressor = LinearRegression(normalize=False)\n",
    "    linear_regressor.fit(X, y)\n",
    "    y_pred =  linear_regressor.predict(X)\n",
    "    mse =  mean_squared_error(y, y_pred)\n",
    "    mae =  mean_absolute_error(y, y_pred)\n",
    "    r2 =  r2_score(y, y_pred)\n",
    "    print mse\n",
    "    print mae\n",
    "    print r2\n",
    "    return y_pred, mse, mae, r2"
   ]
  },
  {
   "cell_type": "code",
   "execution_count": 13,
   "metadata": {},
   "outputs": [
    {
     "name": "stdout",
     "output_type": "stream",
     "text": [
      "1219044781.49\n",
      "21224.300871\n",
      "0.80464798594\n"
     ]
    }
   ],
   "source": [
    "y_pred_house_prices, mse_house_prices, mae_house_prices, r2_house_prices = linear_predictor(X_house_prices, y_house_prices)"
   ]
  },
  {
   "cell_type": "markdown",
   "metadata": {},
   "source": [
    "## Task 5: Calculating residuals\n",
    "\n",
    "Let's write a function `residuals()`"
   ]
  },
  {
   "cell_type": "code",
   "execution_count": 19,
   "metadata": {
    "collapsed": true
   },
   "outputs": [],
   "source": [
    "def residulas(y, y_pred):\n",
    "    error_residuals = y - y_pred\n",
    "    print error_residuals[:5]\n",
    "    return error_residuals"
   ]
  },
  {
   "cell_type": "code",
   "execution_count": 20,
   "metadata": {},
   "outputs": [
    {
     "name": "stdout",
     "output_type": "stream",
     "text": [
      "0   -14665.244623\n",
      "1   -12208.147028\n",
      "2     7105.202409\n",
      "3   -57356.625055\n",
      "4   -45125.753986\n",
      "Name: SalePrice, dtype: float64\n"
     ]
    }
   ],
   "source": [
    "residuals_house_prices = residulas(y_house_prices, y_pred_house_prices)"
   ]
  },
  {
   "cell_type": "markdown",
   "metadata": {},
   "source": [
    "## Task 6: Plotting residuals\n",
    "\n",
    "Let's write a function `plot_residuals()`"
   ]
  },
  {
   "cell_type": "code",
   "execution_count": 21,
   "metadata": {
    "collapsed": true
   },
   "outputs": [],
   "source": [
    "def plot_residuals(y, error_residuals):\n",
    "    plt.figure(figsize=(15,8))\n",
    "    plt.scatter(y, error_residuals)\n",
    "    plt.title('Residual plot')\n",
    "    plt.xlabel('Sale price')\n",
    "    plt.ylabel('Errors')\n",
    "    plt.show()\n",
    "    return plt"
   ]
  },
  {
   "cell_type": "code",
   "execution_count": 22,
   "metadata": {},
   "outputs": [
    {
     "data": {
      "image/png": "[encoded data removed]",
      "text/plain": [
       "<matplotlib.figure.Figure at 0x118c61210>"
      ]
     },
     "metadata": {},
     "output_type": "display_data"
    }
   ],
   "source": [
    "plot = plot_residuals(y_house_prices, residuals_house_prices)"
   ]
  },
  {
   "cell_type": "markdown",
   "metadata": {},
   "source": [
    "## Task 7: Residuals Histogram\n",
    "\n",
    "Let's write a function `hist_residuals()`"
   ]
  },
  {
   "cell_type": "code",
   "execution_count": 28,
   "metadata": {
    "collapsed": true
   },
   "outputs": [],
   "source": [
    "def hist_residuals(error_residuals, bins):\n",
    "    plt.figure(figsize=(15,8))\n",
    "    plt.hist(error_residuals, bins=bins)\n",
    "    plt.show()\n",
    "    return plt"
   ]
  },
  {
   "cell_type": "code",
   "execution_count": 29,
   "metadata": {},
   "outputs": [
    {
     "data": {
      "image/png": "[encoded data removed]",
      "text/plain": [
       "<matplotlib.figure.Figure at 0x11904fed0>"
      ]
     },
     "metadata": {},
     "output_type": "display_data"
    }
   ],
   "source": [
    "hist = hist_residuals(residuals_house_prices, 80)"
   ]
  },
  {
   "cell_type": "markdown",
   "metadata": {},
   "source": [
    "## Task 8: Residuals qq plot\n",
    "\n",
    "Let's write a function `qq_residuals()`"
   ]
  },
  {
   "cell_type": "code",
   "execution_count": 30,
   "metadata": {
    "collapsed": true
   },
   "outputs": [],
   "source": [
    "import numpy as np \n",
    "import pylab \n",
    "import scipy.stats as stats\n",
    "  \n",
    "def qq_residuals(error_residuals):\n",
    "    stats.probplot(error_residuals, dist=\"norm\", plot=pylab)\n",
    "    pylab.show()\n",
    "    return pylab"
   ]
  },
  {
   "cell_type": "code",
   "execution_count": 31,
   "metadata": {},
   "outputs": [
    {
     "data": {
      "image/png": "[encoded data removed]",
      "text/plain": [
       "<matplotlib.figure.Figure at 0x11b67dc10>"
      ]
     },
     "metadata": {},
     "output_type": "display_data"
    }
   ],
   "source": [
    "qq_plot = qq_residuals(residuals_house_prices)"
   ]
  }
 ],
 "metadata": {
  "kernelspec": {
   "display_name": "Python 2",
   "language": "python",
   "name": "python2"
  },
  "language_info": {
   "codemirror_mode": {
    "name": "ipython",
    "version": 2
   },
   "file_extension": ".py",
   "mimetype": "text/x-python",
   "name": "python",
   "nbconvert_exporter": "python",
   "pygments_lexer": "ipython2",
   "version": "2.7.13"
  },
  "widgets": {
   "state": {},
   "version": "1.1.2"
  }
 },
 "nbformat": 4,
 "nbformat_minor": 2
}
